{
 "cells": [
  {
   "cell_type": "code",
   "execution_count": 12,
   "metadata": {},
   "outputs": [
    {
     "name": "stdout",
     "output_type": "stream",
     "text": [
      "Line 1 - value of c is  30\n",
      "Line 2 - value of c is  -10\n",
      "Line 3 - value of c is  200\n",
      "Line 4 - value of c is  0.5\n",
      "Line 5 - value of c is  2\n",
      "Line 5 - value of c is  1000\n",
      "Line 6 - value of c is  3\n"
     ]
    }
   ],
   "source": [
    "a = 10\n",
    "b = 20\n",
    "c = 0\n",
    "d = 3\n",
    "\n",
    "c = a+b\n",
    "print('Line 1 - value of c is ', c)\n",
    "\n",
    "c = a-b\n",
    "print('Line 2 - value of c is ', c)\n",
    "\n",
    "c = a*b\n",
    "print('Line 3 - value of c is ', c)\n",
    "\n",
    "c = a/b\n",
    "print('Line 4 - value of c is ', c)\n",
    "\n",
    "c = b%d\n",
    "print('Line 5 - value of c is ', c)\n",
    "\n",
    "c = a**d\n",
    "print('Line 5 - value of c is ', c)\n",
    "\n",
    "c = a//d\n",
    "print('Line 6 - value of c is ', c)"
   ]
  },
  {
   "cell_type": "code",
   "execution_count": 24,
   "metadata": {},
   "outputs": [
    {
     "name": "stdout",
     "output_type": "stream",
     "text": [
      "False\n",
      "True\n"
     ]
    }
   ],
   "source": [
    "a = 10\n",
    "b = 20\n",
    "\n",
    "print(a==b)\n",
    "\n",
    "print(a!=b)"
   ]
  },
  {
   "cell_type": "code",
   "execution_count": 30,
   "metadata": {},
   "outputs": [
    {
     "name": "stdout",
     "output_type": "stream",
     "text": [
      "Line 1 -  21\n",
      "Line 2 -  0\n",
      "Line 3 -  210\n"
     ]
    }
   ],
   "source": [
    "a = 21\n",
    "b = 10\n",
    "c = 0\n",
    "\n",
    "c += a # equal to c = c+a\n",
    "print('Line 1 - ', c)\n",
    "\n",
    "c -= a\n",
    "print('Line 2 - ', c)\n",
    "\n",
    "b *= a # b = b*a\n",
    "print('Line 3 - ', b)"
   ]
  },
  {
   "cell_type": "code",
   "execution_count": 36,
   "metadata": {},
   "outputs": [
    {
     "data": {
      "text/plain": [
       "True"
      ]
     },
     "execution_count": 36,
     "metadata": {},
     "output_type": "execute_result"
    }
   ],
   "source": [
    "a = 10\n",
    "b = 5\n",
    "\n",
    "a>b or b>a"
   ]
  },
  {
   "cell_type": "code",
   "execution_count": 43,
   "metadata": {},
   "outputs": [
    {
     "name": "stdout",
     "output_type": "stream",
     "text": [
      "jelek\n"
     ]
    }
   ],
   "source": [
    "nilai = 10\n",
    "\n",
    "if nilai>=90:\n",
    "    print('sangat bagus')\n",
    "elif 60<=nilai<90:\n",
    "    print('standar')\n",
    "else :\n",
    "    print('jelek')"
   ]
  },
  {
   "cell_type": "code",
   "execution_count": 46,
   "metadata": {},
   "outputs": [
    {
     "name": "stdout",
     "output_type": "stream",
     "text": [
      "Masukkan nilai ujian: 70\n",
      "Kategori(SD/SMP): SMP\n",
      "Anda tidak lulus\n"
     ]
    }
   ],
   "source": [
    "nilai = int(input('Masukkan nilai ujian: '))\n",
    "kategori = input('Kategori(SD/SMP): ')\n",
    "\n",
    "if kategori=='SD':\n",
    "    if nilai>=70:\n",
    "        print('Anda lulus')\n",
    "    else:\n",
    "        print('Anda tidak lulus')\n",
    "        \n",
    "elif kategori =='SMP':\n",
    "    if nilai>=80:\n",
    "        print('Anda lulus')\n",
    "    else:\n",
    "        print('Anda tidak lulus')"
   ]
  },
  {
   "cell_type": "markdown",
   "metadata": {},
   "source": [
    "## Challenge 01 : Pengambilan Keputusan Tilang Berdasarkan Plat Nomor\n",
    "• Rules :\n",
    "   - buat program python sederhana yang dapat menerima 2 input :\n",
    "       - tanggal\n",
    "       - plat nomor\n",
    "   - kemudian program akan secara otomatis memberikan jawaban apakah pada tanggal tersebut, pemilik kendaraan dengan plat nomor yang diinput akan terkena tilang atau tidak.\n",
    "\n",
    "• Ketentuan tilang ialah :\n",
    "- akan ditilang apabila ada plat nomor ganjil di tanggal genap, begitu juga sebaliknya\n"
   ]
  },
  {
   "cell_type": "code",
   "execution_count": 1,
   "metadata": {},
   "outputs": [
    {
     "name": "stdout",
     "output_type": "stream",
     "text": [
      "Masukkan Tanggal: 12\n",
      "Masukkan Plat Nomor: B 1 RI\n",
      "Anda DITILANG, karena plat anda ganjil di tanggal genap\n"
     ]
    }
   ],
   "source": [
    "tanggal = int(input('Masukkan Tanggal: '))\n",
    "plat_nomor = input('Masukkan Plat Nomor: ')\n",
    "\n",
    "plat = plat_nomor.split(' ')\n",
    "plat = int(plat[1])\n",
    "\n",
    "if tanggal%2==0:\n",
    "    if plat%2==0:\n",
    "        print('Anda Lolos, karena plat anda genap di tanggal genap')\n",
    "    else :\n",
    "        print('Anda DITILANG, karena plat anda ganjil di tanggal genap')\n",
    "else:\n",
    "    if plat%2!=0:\n",
    "        print('Anda Lolos, karena plat anda ganjil di tanggal ganjil')\n",
    "    else :\n",
    "        print('Anda DITILANG, karena plat anda genap di tanggal ganjil')"
   ]
  },
  {
   "cell_type": "code",
   "execution_count": 56,
   "metadata": {},
   "outputs": [],
   "source": [
    "import pandas as pd\n",
    "tanggal_trans = '2020-02-01'\n",
    "tanggal_maks = '2020-02-05'"
   ]
  },
  {
   "cell_type": "code",
   "execution_count": 57,
   "metadata": {},
   "outputs": [],
   "source": [
    "tanggal_trans = pd.to_datetime(tanggal_trans)\n",
    "tanggal_maks = pd.to_datetime(tanggal_maks)"
   ]
  },
  {
   "cell_type": "code",
   "execution_count": 59,
   "metadata": {},
   "outputs": [
    {
     "data": {
      "text/plain": [
       "True"
      ]
     },
     "execution_count": 59,
     "metadata": {},
     "output_type": "execute_result"
    }
   ],
   "source": [
    "tanggal_trans<tanggal_maks"
   ]
  },
  {
   "cell_type": "code",
   "execution_count": 67,
   "metadata": {},
   "outputs": [
    {
     "name": "stdout",
     "output_type": "stream",
     "text": [
      "Tanggal transaksi (YYYY-MM-DD) : 2020-02-02\n",
      "Jumlah transaksi (rupiah) : 76000\n",
      "Selamat anda mendapatkan diskon sebesar Rp. 38,000.0 !\n"
     ]
    }
   ],
   "source": [
    "tanggal_transaksi = pd.to_datetime(input('Tanggal transaksi (YYYY-MM-DD) : '))\n",
    "jumlah_transaksi = int(input('Jumlah transaksi (rupiah) : '))\n",
    "\n",
    "tenggat_waktu = pd.to_datetime('2021-07-01')\n",
    "\n",
    "\n",
    "if tanggal_transaksi <= tenggat_waktu :\n",
    "    if jumlah_transaksi <= 100000 : \n",
    "        print('Selamat anda mendapatkan diskon sebesar Rp. {:,} !'.format(jumlah_transaksi*0.5))\n",
    "    else :\n",
    "        print('Selamat anda mendapat diskon sebesar Rp. {:,} !'.format(50000))\n",
    "else :\n",
    "    print('Diskon sudah tidak berlaku')"
   ]
  },
  {
   "cell_type": "code",
   "execution_count": 73,
   "metadata": {},
   "outputs": [
    {
     "name": "stdout",
     "output_type": "stream",
     "text": [
      "nama saya jihar, nilai saya 1,000,000\n",
      "nama saya jihar, nilai saya 1000000\n"
     ]
    }
   ],
   "source": [
    "nilai = 1000000\n",
    "nama = 'jihar'\n",
    "print('nama saya {}, nilai saya {:,}'.format(nama, nilai))\n",
    "print(f'nama saya {nama}, nilai saya {nilai}')"
   ]
  },
  {
   "cell_type": "code",
   "execution_count": 74,
   "metadata": {},
   "outputs": [
    {
     "name": "stdout",
     "output_type": "stream",
     "text": [
      "Count :  5\n",
      "Count :  4\n",
      "Count :  3\n",
      "Count :  2\n",
      "Count :  1\n",
      "close the door!\n"
     ]
    }
   ],
   "source": [
    "count = 5\n",
    "while count>=1:\n",
    "    print('Count : ', count)\n",
    "    count -= 1\n",
    "    \n",
    "print('close the door!')"
   ]
  },
  {
   "cell_type": "code",
   "execution_count": 76,
   "metadata": {},
   "outputs": [],
   "source": [
    "cars = ['alphard', 'mercedes', 'BMW']\n",
    "cars_upper = []\n",
    "for car in cars:\n",
    "    carupper = car.upper()\n",
    "    cars_upper.append(carupper)"
   ]
  },
  {
   "cell_type": "code",
   "execution_count": 83,
   "metadata": {},
   "outputs": [
    {
     "name": "stdout",
     "output_type": "stream",
     "text": [
      "Car 1 : alphard\n",
      "Car 2 : mercedes\n",
      "Car 3 : BMW\n"
     ]
    }
   ],
   "source": [
    "for index in range(len(cars)):\n",
    "    print(f'Car {index+1} : {cars[index]}')"
   ]
  },
  {
   "cell_type": "code",
   "execution_count": 94,
   "metadata": {},
   "outputs": [
    {
     "name": "stdout",
     "output_type": "stream",
     "text": [
      "car 1 : alphard\n",
      "car 2 : mercedes\n",
      "car 3 : BMW\n"
     ]
    }
   ],
   "source": [
    "for i in range(3):\n",
    "    print(f'car {i+1} : {cars[i]}')"
   ]
  },
  {
   "cell_type": "code",
   "execution_count": 102,
   "metadata": {},
   "outputs": [
    {
     "name": "stdout",
     "output_type": "stream",
     "text": [
      "BAB 1 - SUB BAB 1\n",
      "BAB 1 - SUB BAB 2\n",
      "BAB 1 - SUB BAB 3\n",
      "BAB 2 - SUB BAB 1\n",
      "BAB 2 - SUB BAB 2\n",
      "BAB 2 - SUB BAB 3\n",
      "BAB 3 - SUB BAB 1\n",
      "BAB 3 - SUB BAB 2\n",
      "BAB 3 - SUB BAB 3\n"
     ]
    }
   ],
   "source": [
    "for i in range(1, 4):\n",
    "    for j in range(1, 4):\n",
    "        print(f'BAB {i} - SUB BAB {j}')"
   ]
  },
  {
   "cell_type": "code",
   "execution_count": 103,
   "metadata": {
    "scrolled": false
   },
   "outputs": [
    {
     "name": "stdout",
     "output_type": "stream",
     "text": [
      "1 x 1 = 1\n",
      "1 x 2 = 2\n",
      "1 x 3 = 3\n",
      "1 x 4 = 4\n",
      "2 x 1 = 2\n",
      "2 x 2 = 4\n",
      "2 x 3 = 6\n",
      "2 x 4 = 8\n",
      "3 x 1 = 3\n",
      "3 x 2 = 6\n",
      "3 x 3 = 9\n",
      "3 x 4 = 12\n",
      "4 x 1 = 4\n",
      "4 x 2 = 8\n",
      "4 x 3 = 12\n",
      "4 x 4 = 16\n"
     ]
    }
   ],
   "source": [
    "for i in range(1, 5):\n",
    "    for j in range(1, 5):\n",
    "        print(f'{i} x {j} = {i*j}')"
   ]
  },
  {
   "cell_type": "code",
   "execution_count": 110,
   "metadata": {},
   "outputs": [
    {
     "name": "stdout",
     "output_type": "stream",
     "text": [
      "Huruf sekarang : S\n",
      "Huruf sekarang : h\n",
      "Huruf sekarang : i\n",
      "Huruf sekarang : f\n",
      "Huruf sekarang : t\n",
      "----------------------------------------\n",
      "Huruf sekarang : A\n",
      "Huruf sekarang : c\n",
      "Huruf sekarang : a\n",
      "Huruf sekarang : d\n",
      "Huruf sekarang : e\n",
      "Huruf sekarang : m\n",
      "Huruf sekarang : y\n"
     ]
    }
   ],
   "source": [
    "for i in 'ShiftAcademy':\n",
    "    if i == 'A':\n",
    "        pass\n",
    "        print('--'*20)\n",
    "    print('Huruf sekarang :', i)\n"
   ]
  },
  {
   "cell_type": "code",
   "execution_count": 111,
   "metadata": {},
   "outputs": [
    {
     "name": "stdout",
     "output_type": "stream",
     "text": [
      "Nama: Jihar\n",
      "Nilai: 100\n"
     ]
    }
   ],
   "source": [
    "print('Nama: Jihar\\nNilai: 100')"
   ]
  },
  {
   "cell_type": "code",
   "execution_count": 112,
   "metadata": {},
   "outputs": [
    {
     "name": "stdout",
     "output_type": "stream",
     "text": [
      " *  *  *  *  * \n",
      " *  *  *  *  * \n",
      " *  *  *  *  * \n",
      " *  *  *  *  * \n",
      " *  *  *  *  * \n",
      "\n"
     ]
    }
   ],
   "source": [
    "z = ''\n",
    "for i in range(5):\n",
    "    for j in range(5):\n",
    "        z += ' * '\n",
    "    z += '\\n'\n",
    "print(z)"
   ]
  },
  {
   "cell_type": "code",
   "execution_count": 118,
   "metadata": {},
   "outputs": [
    {
     "name": "stdout",
     "output_type": "stream",
     "text": [
      " *  *  *  *  * \n",
      " *  *  *  * \n",
      " *  *  * \n",
      " *  * \n",
      " * \n",
      " *  * \n",
      " *  *  * \n",
      " *  *  *  * \n",
      " *  *  *  *  * \n",
      "\n"
     ]
    }
   ],
   "source": [
    "z = ''\n",
    "for i in range(5):\n",
    "    for j in range(5-i):\n",
    "        z += ' * '\n",
    "    z += '\\n'\n",
    "for i in range(1, 5):\n",
    "    for j in range(1+i):\n",
    "        z += ' * '\n",
    "    z += '\\n'\n",
    "print(z)"
   ]
  },
  {
   "cell_type": "code",
   "execution_count": 122,
   "metadata": {},
   "outputs": [
    {
     "name": "stdout",
     "output_type": "stream",
     "text": [
      " *  *  *  *  * \n",
      " *  *  *  * \n",
      " *  *  * \n",
      " *  * \n",
      " * \n",
      " *  * \n",
      " *  *  * \n",
      " *  *  *  * \n",
      " *  *  *  *  * \n",
      "\n"
     ]
    }
   ],
   "source": [
    "z = ''\n",
    "for i in range(5):\n",
    "    for j in range(5-i):\n",
    "        z += ' * '\n",
    "    z += '\\n'\n",
    "    \n",
    "for i in range(1, 5):\n",
    "    for j in range(1+i):\n",
    "        z += ' * '\n",
    "    z += '\\n'\n",
    "print(z)"
   ]
  },
  {
   "cell_type": "markdown",
   "metadata": {},
   "source": [
    "# Functions"
   ]
  },
  {
   "cell_type": "code",
   "execution_count": 123,
   "metadata": {},
   "outputs": [],
   "source": [
    "def cetak(string):\n",
    "    print(string)"
   ]
  },
  {
   "cell_type": "code",
   "execution_count": 124,
   "metadata": {},
   "outputs": [
    {
     "name": "stdout",
     "output_type": "stream",
     "text": [
      "Hello World!\n"
     ]
    }
   ],
   "source": [
    "cetak('Hello World!')"
   ]
  },
  {
   "cell_type": "code",
   "execution_count": 125,
   "metadata": {},
   "outputs": [],
   "source": [
    "def square(num):\n",
    "    return num ** 2"
   ]
  },
  {
   "cell_type": "code",
   "execution_count": 126,
   "metadata": {},
   "outputs": [
    {
     "data": {
      "text/plain": [
       "25"
      ]
     },
     "execution_count": 126,
     "metadata": {},
     "output_type": "execute_result"
    }
   ],
   "source": [
    "square(5)"
   ]
  },
  {
   "cell_type": "code",
   "execution_count": 127,
   "metadata": {},
   "outputs": [],
   "source": [
    "def luas_segitiga(alas, tinggi):\n",
    "    luas = alas*tinggi / 2\n",
    "    return luas"
   ]
  },
  {
   "cell_type": "code",
   "execution_count": 128,
   "metadata": {},
   "outputs": [
    {
     "data": {
      "text/plain": [
       "25.0"
      ]
     },
     "execution_count": 128,
     "metadata": {},
     "output_type": "execute_result"
    }
   ],
   "source": [
    "luas_segitiga(5, 10)"
   ]
  },
  {
   "cell_type": "code",
   "execution_count": 129,
   "metadata": {},
   "outputs": [
    {
     "data": {
      "text/plain": [
       "'dcba'"
      ]
     },
     "execution_count": 129,
     "metadata": {},
     "output_type": "execute_result"
    }
   ],
   "source": [
    "string = 'abcd'\n",
    "string[::-1]"
   ]
  },
  {
   "cell_type": "code",
   "execution_count": 134,
   "metadata": {},
   "outputs": [],
   "source": [
    "def cek_palindrome(kata):\n",
    "    kata = kata.lower()\n",
    "    if kata==kata[::-1]:\n",
    "        print(f\"Kata '{kata}' adalah palindrome\")\n",
    "    else:\n",
    "        print(f\"Kata '{kata}' bukan palindrome\")"
   ]
  },
  {
   "cell_type": "code",
   "execution_count": 135,
   "metadata": {},
   "outputs": [
    {
     "name": "stdout",
     "output_type": "stream",
     "text": [
      "Kata 'kata' bukan palindrome\n"
     ]
    }
   ],
   "source": [
    "cek_palindrome('kata')"
   ]
  },
  {
   "cell_type": "code",
   "execution_count": 137,
   "metadata": {},
   "outputs": [
    {
     "name": "stdout",
     "output_type": "stream",
     "text": [
      "something\n"
     ]
    }
   ],
   "source": [
    "cetak('something')"
   ]
  },
  {
   "cell_type": "code",
   "execution_count": 141,
   "metadata": {},
   "outputs": [
    {
     "data": {
      "text/plain": [
       "30.0"
      ]
     },
     "execution_count": 141,
     "metadata": {},
     "output_type": "execute_result"
    }
   ],
   "source": [
    "luas_segitiga(tinggi=12, alas=5)"
   ]
  },
  {
   "cell_type": "code",
   "execution_count": 148,
   "metadata": {},
   "outputs": [],
   "source": [
    "def total_gaji(basic, denda, bonus=2000000,pajak=0.1):\n",
    "    total = basic + bonus - denda - (basic*pajak)\n",
    "    print('Take home pay: ', total)"
   ]
  },
  {
   "cell_type": "code",
   "execution_count": 150,
   "metadata": {},
   "outputs": [
    {
     "name": "stdout",
     "output_type": "stream",
     "text": [
      "Take home pay:  9400000.0\n"
     ]
    }
   ],
   "source": [
    "total_gaji(basic=10000000, denda=100000, bonus=500000)"
   ]
  },
  {
   "cell_type": "code",
   "execution_count": 151,
   "metadata": {},
   "outputs": [],
   "source": [
    "def maksimal(*args):\n",
    "    maks = args[0]\n",
    "    for i in args:\n",
    "        if i>maks:\n",
    "            maks=i\n",
    "    return maks"
   ]
  },
  {
   "cell_type": "code",
   "execution_count": 152,
   "metadata": {},
   "outputs": [
    {
     "data": {
      "text/plain": [
       "23423"
      ]
     },
     "execution_count": 152,
     "metadata": {},
     "output_type": "execute_result"
    }
   ],
   "source": [
    "maksimal(23,23,23423,423,423,423,42,34,234,23,4,234,234,23,423,42)"
   ]
  },
  {
   "cell_type": "code",
   "execution_count": 157,
   "metadata": {},
   "outputs": [],
   "source": [
    "def cek_genap(sebuahList):\n",
    "    genap = []\n",
    "    for i in sebuahList:\n",
    "        if i%2==0:\n",
    "            genap.append(i)\n",
    "    return genap"
   ]
  },
  {
   "cell_type": "code",
   "execution_count": 158,
   "metadata": {},
   "outputs": [
    {
     "data": {
      "text/plain": [
       "[2, 4, 6, 8]"
      ]
     },
     "execution_count": 158,
     "metadata": {},
     "output_type": "execute_result"
    }
   ],
   "source": [
    "cek_genap([1,2,3,4,5,6,7,8])"
   ]
  },
  {
   "cell_type": "code",
   "execution_count": 159,
   "metadata": {},
   "outputs": [],
   "source": [
    "from random import shuffle"
   ]
  },
  {
   "cell_type": "code",
   "execution_count": 163,
   "metadata": {},
   "outputs": [],
   "source": [
    "my_list = [' ', 'O', ' ']"
   ]
  },
  {
   "cell_type": "code",
   "execution_count": 164,
   "metadata": {},
   "outputs": [],
   "source": [
    "def shuffle_list(myList):\n",
    "    shuffle(myList)\n",
    "    return myList"
   ]
  },
  {
   "cell_type": "code",
   "execution_count": 166,
   "metadata": {},
   "outputs": [],
   "source": [
    "def player_guess():\n",
    "    guess=''\n",
    "    \n",
    "    while guess not in [0,1,2]:\n",
    "        guess = int(input('Pick a number (1/2/3): '))\n",
    "    return guess"
   ]
  },
  {
   "cell_type": "code",
   "execution_count": 174,
   "metadata": {},
   "outputs": [],
   "source": [
    "def check_guess(myList, guess):\n",
    "    if myList[guess] == 'O':\n",
    "        print('CORRECT!')\n",
    "        print(myList)\n",
    "    else:\n",
    "        print('INCORRECT!')\n",
    "        print(myList)"
   ]
  },
  {
   "cell_type": "code",
   "execution_count": 176,
   "metadata": {},
   "outputs": [
    {
     "name": "stdout",
     "output_type": "stream",
     "text": [
      "Pick a number (1/2/3): 2\n",
      "INCORRECT!\n",
      "[' ', 'O', ' ']\n"
     ]
    }
   ],
   "source": [
    "check_guess(shuffle_list(my_list), player_guess())"
   ]
  },
  {
   "cell_type": "code",
   "execution_count": 177,
   "metadata": {},
   "outputs": [
    {
     "data": {
      "text/plain": [
       "4"
      ]
     },
     "execution_count": 177,
     "metadata": {},
     "output_type": "execute_result"
    }
   ],
   "source": [
    "square(2)"
   ]
  },
  {
   "cell_type": "code",
   "execution_count": 179,
   "metadata": {},
   "outputs": [
    {
     "data": {
      "text/plain": [
       "[4, 9, 16, 25, 36]"
      ]
     },
     "execution_count": 179,
     "metadata": {},
     "output_type": "execute_result"
    }
   ],
   "source": [
    "angka = [2,3,4,5,6]\n",
    "list(map(square, angka))"
   ]
  },
  {
   "cell_type": "code",
   "execution_count": 181,
   "metadata": {},
   "outputs": [],
   "source": [
    "def check_even(num):\n",
    "    return num%2==0"
   ]
  },
  {
   "cell_type": "code",
   "execution_count": 182,
   "metadata": {},
   "outputs": [
    {
     "data": {
      "text/plain": [
       "[2, 4, 6, 8]"
      ]
     },
     "execution_count": 182,
     "metadata": {},
     "output_type": "execute_result"
    }
   ],
   "source": [
    "numbers = [1,2,3,4,5,6,7,8]\n",
    "list(filter(check_even, numbers))"
   ]
  },
  {
   "cell_type": "code",
   "execution_count": 183,
   "metadata": {},
   "outputs": [
    {
     "data": {
      "text/plain": [
       "[20, 30, 40, 50, 60]"
      ]
     },
     "execution_count": 183,
     "metadata": {},
     "output_type": "execute_result"
    }
   ],
   "source": [
    "angka = [2,3,4,5,6]\n",
    "list(map(lambda num: num*10, angka))"
   ]
  },
  {
   "cell_type": "code",
   "execution_count": 186,
   "metadata": {},
   "outputs": [],
   "source": [
    "words = ['makan', 'mas', 'iyo']\n",
    "walikan = list(map(lambda word: word[::-1], words))"
   ]
  },
  {
   "cell_type": "code",
   "execution_count": 187,
   "metadata": {},
   "outputs": [
    {
     "data": {
      "text/plain": [
       "['nakam', 'sam', 'oyi']"
      ]
     },
     "execution_count": 187,
     "metadata": {},
     "output_type": "execute_result"
    }
   ],
   "source": [
    "walikan"
   ]
  },
  {
   "cell_type": "code",
   "execution_count": null,
   "metadata": {},
   "outputs": [],
   "source": []
  }
 ],
 "metadata": {
  "kernelspec": {
   "display_name": "Python 3",
   "language": "python",
   "name": "python3"
  },
  "language_info": {
   "codemirror_mode": {
    "name": "ipython",
    "version": 3
   },
   "file_extension": ".py",
   "mimetype": "text/x-python",
   "name": "python",
   "nbconvert_exporter": "python",
   "pygments_lexer": "ipython3",
   "version": "3.8.8"
  }
 },
 "nbformat": 4,
 "nbformat_minor": 4
}

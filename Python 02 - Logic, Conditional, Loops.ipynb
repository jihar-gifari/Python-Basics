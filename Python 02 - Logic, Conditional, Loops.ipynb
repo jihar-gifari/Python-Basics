{
 "cells": [
  {
   "cell_type": "markdown",
   "metadata": {},
   "source": [
    "# Session 05 : Basic Operators, Conditional, Loops\n",
    "\n",
    "*SHIFTACADEMY - Jihar Gifari*\n"
   ]
  },
  {
   "cell_type": "markdown",
   "metadata": {},
   "source": [
    "## Table of Contents :\n",
    "**1. Basic Operator**\n",
    "    - Arithmetic Operators\n",
    "    - Comparison Operators\n",
    "    - Assignment Operators\n",
    "    - Logical Operators\n",
    "\n",
    "**2. Decision Making : Conditional Statement**\n",
    "    - If statements\n",
    "    - if else statements\n",
    "    - Nested if statements\n",
    "    \n",
    "**3. Challenge 01 : Solving real case with basic operator and conditional statement**   \n",
    "   \n",
    "**4. Loops**\n",
    "    - While loops\n",
    "    - For loops\n",
    "    - Nested loops\n",
    "    - Break statement\n",
    "    - Continue Statement\n",
    "    - Pass Statement\n",
    "\n",
    "**5. Challenge Loops and HOMEWORK 1**\n"
   ]
  },
  {
   "cell_type": "markdown",
   "metadata": {},
   "source": [
    "## 1. Basic Operators\n",
    "Operators are the constructs which can manipulate the value of operands.\n",
    "\n",
    "Consider the expression 4 + 5 = 9. Here, 4 and 5 are called operands and + is called operator."
   ]
  },
  {
   "cell_type": "markdown",
   "metadata": {},
   "source": [
    "### **Types of Operator**\n",
    "Python language supports the following types of operators.\n",
    "\n",
    "1. Arithmetic Operators\n",
    "2. Comparison (Relational) Operators\n",
    "3. Assignment Operators\n",
    "4. Logical Operators\n",
    "5. Bitwise Operators\n",
    "6. Membership Operators\n",
    "7. Identity Operators\n",
    "\n",
    "In today's lesson, we're going to cover the operators type from number 1 - 4"
   ]
  },
  {
   "cell_type": "markdown",
   "metadata": {},
   "source": [
    "### 1.1 Arithmetic Operators\n",
    "\n",
    "<img src='image_DSA/comparison_operator.jpg' alt='drawing' align='left' width='500'>"
   ]
  },
  {
   "cell_type": "code",
   "execution_count": 1,
   "metadata": {},
   "outputs": [
    {
     "name": "stdout",
     "output_type": "stream",
     "text": [
      "Line 1 - Value of c is  31\n",
      "Line 2 - Value of c is  11\n",
      "Line 3 - Value of c is  210\n",
      "Line 4 - Value of c is  2.1\n",
      "Line 5 - Value of c is  1\n",
      "Line 6 - Value of c is  8\n",
      "Line 7 - Value of c is  2\n"
     ]
    }
   ],
   "source": [
    "a = 21\n",
    "b = 10\n",
    "c = 0\n",
    "\n",
    "c = a + b\n",
    "print(\"Line 1 - Value of c is \", c)\n",
    "\n",
    "c = a - b\n",
    "print(\"Line 2 - Value of c is \", c )\n",
    "\n",
    "c = a * b\n",
    "print(\"Line 3 - Value of c is \", c )\n",
    "\n",
    "c = a / b\n",
    "print(\"Line 4 - Value of c is \", c) \n",
    "\n",
    "c = a % b\n",
    "print(\"Line 5 - Value of c is \", c)\n",
    "\n",
    "a = 2\n",
    "b = 3\n",
    "c = a**b \n",
    "print(\"Line 6 - Value of c is \", c)\n",
    "\n",
    "a = 10\n",
    "b = 5\n",
    "c = a//b \n",
    "print(\"Line 7 - Value of c is \", c)"
   ]
  },
  {
   "cell_type": "code",
   "execution_count": 13,
   "metadata": {},
   "outputs": [
    {
     "data": {
      "text/plain": [
       "-5"
      ]
     },
     "execution_count": 13,
     "metadata": {},
     "output_type": "execute_result"
    }
   ],
   "source": [
    "-9//2"
   ]
  },
  {
   "cell_type": "markdown",
   "metadata": {},
   "source": [
    "### 1.2 Comparison Operators\n",
    "\n",
    "- These operators compare the values on either sides of them and decide the relation among them. They are also called Relational operators\n",
    "\n",
    "- Assume variable a holds 10 and variable b holds 20, then :\n",
    "\n",
    "\n",
    "<img src='image_DSA/comparison_operator.jpg' alt='drawing' align='left' width='500'>"
   ]
  },
  {
   "cell_type": "code",
   "execution_count": 29,
   "metadata": {},
   "outputs": [
    {
     "name": "stdout",
     "output_type": "stream",
     "text": [
      "Line 1 - a is not equal to b\n",
      "Line 2 - a is not equal to b\n",
      "Line 3 - a is not less than b\n",
      "Line 4 - a is greater than b\n",
      "Line 5 - a is either less than or equal to  b\n",
      "Line 6 - b is either greater than  or equal to b\n"
     ]
    }
   ],
   "source": [
    "a = 21\n",
    "b = 10\n",
    "c = 0\n",
    "\n",
    "if ( a == b ):\n",
    "    print(\"Line 1 - a is equal to b\")\n",
    "else:\n",
    "    print(\"Line 1 - a is not equal to b\")\n",
    "\n",
    "if ( a != b ):\n",
    "    print(\"Line 2 - a is not equal to b\")\n",
    "else:\n",
    "    print(\"Line 2 - a is equal to b\")\n",
    "\n",
    "if ( a < b ):\n",
    "    print(\"Line 3 - a is less than b\" )\n",
    "else:\n",
    "    print(\"Line 3 - a is not less than b\")\n",
    "\n",
    "if ( a > b ):\n",
    "    print(\"Line 4 - a is greater than b\")\n",
    "else:\n",
    "    print(\"Line 4 - a is not greater than b\")\n",
    "\n",
    "a = 5;\n",
    "b = 20;\n",
    "if ( a <= b ):\n",
    "    print(\"Line 5 - a is either less than or equal to  b\")\n",
    "else:\n",
    "    print(\"Line 5 - a is neither less than nor equal to  b\")\n",
    "\n",
    "if ( b >= a ):\n",
    "    print(\"Line 6 - b is either greater than  or equal to b\")\n",
    "else:\n",
    "    print(\"Line 6 - b is neither greater than  nor equal to b\")"
   ]
  },
  {
   "cell_type": "markdown",
   "metadata": {},
   "source": [
    "### 1.3 Assignment Operator\n",
    "\n",
    "\n",
    "<img src='image_DSA/assignment_operator.jpg' alt='drawing' align='left' width='500'>"
   ]
  },
  {
   "cell_type": "code",
   "execution_count": 30,
   "metadata": {},
   "outputs": [
    {
     "name": "stdout",
     "output_type": "stream",
     "text": [
      "Line 1 - Value of c is  31\n",
      "Line 2 - Value of c is  52\n",
      "Line 3 - Value of c is  1092\n",
      "Line 4 - Value of c is  52.0\n",
      "Line 5 - Value of c is  2\n",
      "Line 6 - Value of c is  2097152\n",
      "Line 7 - Value of c is  99864\n"
     ]
    }
   ],
   "source": [
    "a = 21\n",
    "b = 10\n",
    "c = 0\n",
    "\n",
    "c = a + b\n",
    "print(\"Line 1 - Value of c is \", c)\n",
    "\n",
    "c += a\n",
    "print(\"Line 2 - Value of c is \", c )\n",
    "\n",
    "c *= a\n",
    "print(\"Line 3 - Value of c is \", c )\n",
    "\n",
    "c /= a \n",
    "print(\"Line 4 - Value of c is \", c )\n",
    "\n",
    "c  = 2\n",
    "c %= a\n",
    "print(\"Line 5 - Value of c is \", c)\n",
    "\n",
    "c **= a\n",
    "print(\"Line 6 - Value of c is \", c)\n",
    "\n",
    "c //= a\n",
    "print(\"Line 7 - Value of c is \", c)"
   ]
  },
  {
   "cell_type": "markdown",
   "metadata": {},
   "source": [
    "### 1.4 Logical Operators\n",
    "\n",
    "There are following logical operators supported by Python language. Assume variable a holds 10 and variable b holds 20 then :\n",
    "\n",
    "<img src='image_DSA/logical_operator.jpg' alt='drawing' align='left' width='500'>"
   ]
  },
  {
   "cell_type": "code",
   "execution_count": 27,
   "metadata": {},
   "outputs": [
    {
     "name": "stdout",
     "output_type": "stream",
     "text": [
      "Hello\n"
     ]
    }
   ],
   "source": [
    "print('Hello')"
   ]
  },
  {
   "cell_type": "code",
   "execution_count": 15,
   "metadata": {},
   "outputs": [
    {
     "data": {
      "text/plain": [
       "False"
      ]
     },
     "execution_count": 15,
     "metadata": {},
     "output_type": "execute_result"
    }
   ],
   "source": [
    "a = 10\n",
    "b = 5\n",
    "\n",
    "not(a>b or b>a)"
   ]
  },
  {
   "cell_type": "code",
   "execution_count": 39,
   "metadata": {},
   "outputs": [
    {
     "name": "stdout",
     "output_type": "stream",
     "text": [
      "1. basic: True\n",
      "2. and operator:  False\n",
      "3. or operator:  True\n",
      "4. not operator: False\n"
     ]
    }
   ],
   "source": [
    "print('1. basic:', 2 < 3)\n",
    "print('2. and operator: ', 2 < 3 and 3 < 2)\n",
    "print('3. or operator: ', 2 < 3 or 3 < 2)\n",
    "print('4. not operator:', not(2 < 3))"
   ]
  },
  {
   "cell_type": "markdown",
   "metadata": {},
   "source": [
    "## 2. Decision Making : Conditional Statement\n",
    "- Decision making is anticipation of conditions occurring while execution of the program and specifying actions taken according to the conditions.\n",
    "\n",
    "- Decision structures evaluate multiple expressions which produce TRUE or FALSE as outcome. You need to determine which action to take and which statements to execute if outcome is TRUE or FALSE otherwise.\n",
    "\n",
    "- Following is the general form of a typical decision making structure found in most of the programming languages :\n",
    "\n",
    "<img src='image_DSA/decision_making.jpg' alt='drawing' align='left' width='300'>"
   ]
  },
  {
   "cell_type": "markdown",
   "metadata": {},
   "source": [
    "Python programming language assumes any non-zero and non-null values as TRUE, and if it is either zero or null, then it is assumed as FALSE value.\n",
    "\n",
    "Python programming language provides following types of decision making statements. Click the following links to check their detail.\n",
    "\n",
    "<img src='image_DSA/dm_statement.jpg' alt='drawing' align='left' width='600'>"
   ]
  },
  {
   "cell_type": "markdown",
   "metadata": {},
   "source": [
    "### 2.1 If Statement\n",
    "It is similar to that of other languages. The if statement contains a logical expression using which data is compared and a decision is made based on the result of the comparison.\n",
    "\n",
    "<img src='image_DSA/if_syntax.jpg' alt='drawing' align='left' width='500'>"
   ]
  },
  {
   "cell_type": "markdown",
   "metadata": {},
   "source": [
    "If the boolean expression evaluates to TRUE, then the block of statement(s) inside the if statement is executed. If boolean expression evaluates to FALSE, then the first set of code after the end of the if statement(s) is executed."
   ]
  },
  {
   "cell_type": "code",
   "execution_count": 2,
   "metadata": {},
   "outputs": [
    {
     "name": "stdout",
     "output_type": "stream",
     "text": [
      "1 - Got a true expression value\n",
      "100\n"
     ]
    }
   ],
   "source": [
    "var1 = 100\n",
    "\n",
    "if var1:\n",
    "    print(\"1 - Got a true expression value\")\n",
    "    print(var1)"
   ]
  },
  {
   "cell_type": "code",
   "execution_count": 30,
   "metadata": {},
   "outputs": [],
   "source": [
    "a = 10\n",
    "b = 20\n",
    "\n",
    "if a>b :\n",
    "    print('something')"
   ]
  },
  {
   "cell_type": "code",
   "execution_count": 11,
   "metadata": {},
   "outputs": [
    {
     "name": "stdout",
     "output_type": "stream",
     "text": [
      "zero is False in python\n"
     ]
    }
   ],
   "source": [
    "var2 = 0\n",
    "if var2:\n",
    "    print(\"2 - Got a true expression value\")\n",
    "    print(var2)\n",
    "    \n",
    "if not(var2):\n",
    "    print('zero is False in python')"
   ]
  },
  {
   "cell_type": "markdown",
   "metadata": {},
   "source": [
    "### 2.2 If , Elif, Else Statement\n",
    "- An else statement can be combined with an if statement. An else statement contains the block of code that executes if the conditional expression in the if statement resolves to 0 or a FALSE value.\n",
    "\n",
    "- The else statement is an optional statement and there could be at most only one else statement following if\n",
    "\n",
    "<img src='image_DSA/if_else_syntax.jpg' alt='drawing' align='left' width='500'>"
   ]
  },
  {
   "cell_type": "markdown",
   "metadata": {},
   "source": [
    "<img src='image_DSA/if_else_statement.jpg' alt='drawing' align='left' width=300>"
   ]
  },
  {
   "cell_type": "code",
   "execution_count": 71,
   "metadata": {
    "scrolled": true
   },
   "outputs": [
    {
     "name": "stdout",
     "output_type": "stream",
     "text": [
      "1 - Got a true expression value\n",
      "100\n",
      "2 - Got a false expression value\n",
      "0\n",
      "Good bye!\n"
     ]
    }
   ],
   "source": [
    "# If else statement\n",
    "var1 = 100\n",
    "if var1:\n",
    "    print(\"1 - Got a true expression value\")\n",
    "    print(var1)\n",
    "else:\n",
    "    print(\"1 - Got a false expression value\")\n",
    "    print(var1)\n",
    "\n",
    "var2 = 0\n",
    "if var2:\n",
    "    print(\"2 - Got a true expression value\")\n",
    "    print(var2)\n",
    "else:\n",
    "    print(\"2 - Got a false expression value\")\n",
    "    print(var2)\n",
    "\n",
    "print(\"Good bye!\")"
   ]
  },
  {
   "cell_type": "markdown",
   "metadata": {},
   "source": [
    "#### The Elif Statement\n",
    "- The elif statement allows you to check multiple expressions for TRUE and execute a block of code as soon as one of the conditions evaluates to TRUE.\n",
    "\n",
    "- Similar to the else, the elif statement is optional. However, unlike else, for which there can be at most one statement, there can be an arbitrary number of elif statements following an if.\n",
    "\n",
    "<img src='image_DSA/elif_syntax.jpg' alt='drawing' align='left' width=500>"
   ]
  },
  {
   "cell_type": "code",
   "execution_count": 34,
   "metadata": {},
   "outputs": [
    {
     "name": "stdout",
     "output_type": "stream",
     "text": [
      "Berapa jumlah istri anda? (masukkan 0 jika belum menikah)1\n",
      "yakin cuma satu?\n"
     ]
    }
   ],
   "source": [
    "# Contoh Case:\n",
    "istri = int(input('Berapa jumlah istri anda? (masukkan 0 jika belum menikah)'))\n",
    "\n",
    "if istri < 1 :\n",
    "    print('cie jomblo')\n",
    "elif istri == 1 :\n",
    "    print('yakin cuma satu?')\n",
    "else :\n",
    "    print('senangnya dalam hati')"
   ]
  },
  {
   "cell_type": "code",
   "execution_count": 40,
   "metadata": {},
   "outputs": [
    {
     "data": {
      "text/plain": [
       "1"
      ]
     },
     "execution_count": 40,
     "metadata": {},
     "output_type": "execute_result"
    }
   ],
   "source": [
    "plat_nomer = 'B 1551 SC'\n",
    "int(plat_nomer[-4])"
   ]
  },
  {
   "cell_type": "code",
   "execution_count": 47,
   "metadata": {},
   "outputs": [
    {
     "name": "stdout",
     "output_type": "stream",
     "text": [
      "Berapa nilai kamu? 75\n",
      "SD/SMP?SD\n",
      "Selamat anda lulus!\n"
     ]
    }
   ],
   "source": [
    "nilai = int(input('Berapa nilai kamu? '))\n",
    "kategori = input('SD/SMP?')\n",
    "\n",
    "if kategori == 'SD':\n",
    "    if nilai > 70 :\n",
    "        print('Selamat anda lulus!')\n",
    "    else :\n",
    "        print('Yuk semangat yuk, coba lagi ya!')\n",
    "elif kategori == 'SMP':\n",
    "    if nilai > 80 :\n",
    "        print('Selamat anda lulus!')\n",
    "    else :\n",
    "        print('Yuk semangat yuk, coba lagi ya!')\n"
   ]
  },
  {
   "cell_type": "markdown",
   "metadata": {},
   "source": [
    "## 3. Challenge 01 : Solving Real Case With Basic Operator and If Else Statement\n",
    "**Nomor 01 : Pengambilan Keputusan Tilang Berdasarkan Plat Nomor**\n",
    "\n",
    "Rules :\n",
    "- buat program python sederhana yang dapat menerima 2 input :\n",
    "    1. tanggal\n",
    "    2. plat nomor\n",
    "- kemudian program akan secara otomatis memberikan jawaban apakah pada tanggal tersebut, pemilik kendaraan dengan plat nomor yang diinput akan terkena tilang atau tidak. \n",
    "- Ketentuan tilang ialah :\n",
    "    - akan ditilang apabila ada plat nomor ganjil di tanggal genap, begitu juga sebaliknya"
   ]
  },
  {
   "cell_type": "code",
   "execution_count": 3,
   "metadata": {},
   "outputs": [
    {
     "name": "stdout",
     "output_type": "stream",
     "text": [
      "Masukkan Tanggal (hanya tanggal saja): 14\n",
      "Masukkan plat Nomor : F 1551 SC\n",
      "Anda ditilang! Karena hari ini waktunya plat Ganjil, bukan Genap\n"
     ]
    }
   ],
   "source": [
    "# Quiz 2 :\n",
    "tanggal = int(input('Masukkan Tanggal (hanya tanggal saja): '))\n",
    "input_plat = input('Masukkan plat Nomor : ')\n",
    "plat_nomor = int(input_plat.split()[1])\n",
    "\n",
    "if tanggal % 2 == 0 :\n",
    "    if plat_nomor % 2 == 0 :\n",
    "        print('Anda lolos')\n",
    "    else :\n",
    "        print('Anda ditilang! Karena hari ini waktunya plat Ganjil, bukan Genap')\n",
    "else :\n",
    "    if plat_nomor % 2 != 0 :\n",
    "        print('Anda lolos')\n",
    "    else :\n",
    "        print('Anda ditilang! Karena hari ini waktunya plat Ganjil, bukan Genap')"
   ]
  },
  {
   "cell_type": "markdown",
   "metadata": {},
   "source": [
    "**Nomor 02 : Penentuan Jumlah Cashback Berdasarkan Tenggat Waktu dan Jumlah Transaksi**\n",
    "\n",
    "Context :\n",
    "- Kamu bekerja di toko ecommerce jaya\n",
    "- Toko ecommerce jaya sedang mengadakan cashback bagi transaksi yang telah dilakukan oleh customer mereka\n",
    "- kemudian customer akan memberikan data tanggal dan jumlah transaksi melalui situs redeem cashback\n",
    "- kamu diminta oleh toko ecommerce jaya untuk membuat program python yg dapat menentukan apakah seseorang mendapatkan cashback atau tidak, bila iya, berapa jumlahnya.\n",
    "\n",
    "\n",
    "Rules :\n",
    "- buat program python sederhana yang dapat menerima 2 input :\n",
    "    1. tanggal transaki (format : YYYY-MM-DD)\n",
    "    2. jumlah transaksi \n",
    "- kemudian program akan secara otomatis memberikan jawaban apakah pada tanggal tersebut, customer mendapatkan cashback atau tidak. bila dapat, program akan memberitahu berapa potongan harga yang didapatkannya.\n",
    "- Ketentuan cashback ialah :\n",
    "    - tidak boleh lebih dari tanggal 2020-07-01\n",
    "    - Diskon sebesar 50%\n",
    "    - maksimal potongan harga 50000"
   ]
  },
  {
   "cell_type": "code",
   "execution_count": 5,
   "metadata": {},
   "outputs": [],
   "source": [
    "tanggal_string = '1995-06-06'\n",
    "tanggal_2 = '1994-01-01'"
   ]
  },
  {
   "cell_type": "code",
   "execution_count": 6,
   "metadata": {},
   "outputs": [],
   "source": [
    "import pandas as pd"
   ]
  },
  {
   "cell_type": "code",
   "execution_count": 7,
   "metadata": {},
   "outputs": [],
   "source": [
    "t_1 = pd.to_datetime(tanggal_string)\n",
    "t_2 = pd.to_datetime(tanggal_2)"
   ]
  },
  {
   "cell_type": "code",
   "execution_count": 8,
   "metadata": {},
   "outputs": [
    {
     "data": {
      "text/plain": [
       "False"
      ]
     },
     "execution_count": 8,
     "metadata": {},
     "output_type": "execute_result"
    }
   ],
   "source": [
    "t_1 < t_2"
   ]
  },
  {
   "cell_type": "code",
   "execution_count": null,
   "metadata": {},
   "outputs": [],
   "source": []
  },
  {
   "cell_type": "code",
   "execution_count": null,
   "metadata": {},
   "outputs": [],
   "source": []
  },
  {
   "cell_type": "code",
   "execution_count": 53,
   "metadata": {},
   "outputs": [],
   "source": [
    "import pandas as pd"
   ]
  },
  {
   "cell_type": "code",
   "execution_count": 11,
   "metadata": {},
   "outputs": [
    {
     "name": "stdout",
     "output_type": "stream",
     "text": [
      "Tanggal transaksi (YYYY-MM-DD) : 2020-06-24\n",
      "Jumlah transaksi (rupiah) : 1000000\n",
      "Selamat anda mendapat diskon sebesar Rp. 50,000 !\n"
     ]
    }
   ],
   "source": [
    "tanggal_transaksi = pd.to_datetime(input('Tanggal transaksi (YYYY-MM-DD) : '))\n",
    "jumlah_transaksi = int(input('Jumlah transaksi (rupiah) : '))\n",
    "tenggat_waktu = pd.to_datetime('2020-07-01')\n",
    "\n",
    "\n",
    "if tanggal_transaksi <= tenggat_waktu :\n",
    "    if jumlah_transaksi <= 100000 : \n",
    "        print('Selamat anda mendapatkan diskon sebesar Rp. {:,} !'.format(jumlah_transaksi*0.5))\n",
    "    else :\n",
    "        print('Selamat anda mendapat diskon sebesar Rp. {:,} !'.format(50000))\n",
    "else :\n",
    "    print('Diskon sudah tidak berlaku')"
   ]
  },
  {
   "cell_type": "markdown",
   "metadata": {},
   "source": [
    "## 4. Loops\n",
    "- In general, statements are executed sequentially: The first statement in a function is executed first, followed by the second, and so on. There may be a situation when you need to execute a block of code several number of times.\n",
    "\n",
    "- Programming languages provide various control structures that allow for more complicated execution paths.\n",
    "\n",
    "- A loop statement allows us to execute a statement or group of statements multiple times. The following diagram illustrates a loop statement −\n",
    "\n",
    "<img src='image_DSA/loop_architecture.jpg' alt='drawing' align='left' width=300>"
   ]
  },
  {
   "cell_type": "markdown",
   "metadata": {},
   "source": [
    "Python programming language provides following types of loops to handle looping requirements.\n",
    "\n",
    "\n",
    "<img src='image_DSA/loop_types.jpg' alt='drawing' align='left' width=600>"
   ]
  },
  {
   "cell_type": "markdown",
   "metadata": {},
   "source": [
    "### 4.1 While Loop Statements\n",
    "A while loop statement in Python programming language repeatedly executes a target statement as long as a given condition is true.\n",
    "\n",
    "<img src='image_DSA/while_statement.jpg' alt='drawing' align='left' width=600>"
   ]
  },
  {
   "cell_type": "markdown",
   "metadata": {},
   "source": [
    "- Here, statement(s) may be a single statement or a block of statements. The condition may be any expression, and true is any non-zero value. The loop iterates while the condition is true.\n",
    "\n",
    "- When the condition becomes false, program control passes to the line immediately following the loop.\n",
    "\n",
    "- In Python, all the statements indented by the same number of character spaces after a programming construct are considered to be part of a single block of code. Python uses indentation as its method of grouping statements.\n",
    "\n",
    "<img src='image_DSA/python_while_loop.jpg' alt='drawing' align='left' width=300>"
   ]
  },
  {
   "cell_type": "markdown",
   "metadata": {},
   "source": [
    "Here, key point of the while loop is that the loop might not ever run. When the condition is tested and the result is false, the loop body will be skipped and the first statement after the while loop will be executed."
   ]
  },
  {
   "cell_type": "code",
   "execution_count": 12,
   "metadata": {},
   "outputs": [
    {
     "name": "stdout",
     "output_type": "stream",
     "text": [
      "The count is: 0\n",
      "The count is: 1\n",
      "The count is: 2\n",
      "The count is: 3\n",
      "The count is: 4\n",
      "The count is: 5\n",
      "The count is: 6\n",
      "The count is: 7\n",
      "The count is: 8\n",
      "The count is: 9\n",
      "The count is: 10\n",
      "Good bye!\n"
     ]
    }
   ],
   "source": [
    "count = 0\n",
    "while (count <= 10):\n",
    "    print('The count is:', count)\n",
    "    count = count + 1\n",
    "\n",
    "print(\"Good bye!\")"
   ]
  },
  {
   "cell_type": "markdown",
   "metadata": {},
   "source": [
    "#### Quick Challenge !\n",
    "\n",
    "1. Gunakan While loop untuk membuat countdown dari 10 - 1 seperti berikut :\n",
    "\n",
    "<img src='image_DSA/quick_challenge_1.jpg' alt='drawing' align='left' width='125'>\n"
   ]
  },
  {
   "cell_type": "code",
   "execution_count": 86,
   "metadata": {},
   "outputs": [
    {
     "name": "stdout",
     "output_type": "stream",
     "text": [
      "The count is: 5\n",
      "The count is: 4\n",
      "The count is: 3\n",
      "The count is: 2\n",
      "The count is: 1\n",
      "Close the door!\n"
     ]
    }
   ],
   "source": [
    "count = 5\n",
    "while (count >= 1):\n",
    "    print('The count is:', count)\n",
    "    count = count - 1\n",
    "\n",
    "print(\"Close the door!\")"
   ]
  },
  {
   "cell_type": "markdown",
   "metadata": {},
   "source": [
    "### 4.2 For Loop Statements\n",
    "It has the ability to iterate over the items of any sequence, such as a list or a string.\n",
    "\n",
    "<img src='image_DSA/loop_syntax.jpg' alt='drawing' align='left' width=600>"
   ]
  },
  {
   "cell_type": "markdown",
   "metadata": {},
   "source": [
    "If a sequence contains an expression list, it is evaluated first. Then, the first item in the sequence is assigned to the iterating variable iterating_var. Next, the statements block is executed. Each item in the list is assigned to iterating_var, and the statement(s) block is executed until the entire sequence is exhausted.\n",
    "\n",
    "<img src='image_DSA/python_for_loop.jpg' alt='drawing' align='left' width=450>"
   ]
  },
  {
   "cell_type": "code",
   "execution_count": 69,
   "metadata": {
    "scrolled": true
   },
   "outputs": [
    {
     "name": "stdout",
     "output_type": "stream",
     "text": [
      "Current Letter : P\n",
      "Current Letter : y\n",
      "Current Letter : t\n",
      "Current Letter : h\n",
      "Current Letter : o\n",
      "Current Letter : n\n",
      "-------------------------\n",
      "Current fruit : banana\n",
      "Current fruit : apple\n",
      "Current fruit : mango\n",
      "Good bye!\n"
     ]
    }
   ],
   "source": [
    "for letter in 'Python':     # First Example\n",
    "    print('Current Letter :', letter)\n",
    "\n",
    "print('-'*25)\n",
    "\n",
    "fruits = ['banana', 'apple',  'mango']\n",
    "for fruit in fruits:        # Second Example\n",
    "    print('Current fruit :', fruit)\n",
    "\n",
    "print(\"Good bye!\")"
   ]
  },
  {
   "cell_type": "markdown",
   "metadata": {},
   "source": [
    "**Iterating by Sequence Index**\n",
    "\n",
    "\n",
    "An alternative way of iterating through each item is by index offset into the sequence itself. Following is a simple example −"
   ]
  },
  {
   "cell_type": "code",
   "execution_count": null,
   "metadata": {},
   "outputs": [],
   "source": []
  },
  {
   "cell_type": "code",
   "execution_count": 91,
   "metadata": {
    "scrolled": true
   },
   "outputs": [
    {
     "name": "stdout",
     "output_type": "stream",
     "text": [
      "Current fruit : banana\n",
      "Current fruit : apple\n",
      "Current fruit : mango\n",
      "Good bye!\n"
     ]
    }
   ],
   "source": [
    "fruits = ['banana', 'apple',  'mango']\n",
    "\n",
    "for index in range(len(fruits)):\n",
    "    print('Current fruit :', fruits[index])\n",
    "print(\"Good bye!\")"
   ]
  },
  {
   "cell_type": "markdown",
   "metadata": {},
   "source": [
    "Here, we took the assistance of the len() built-in function, which provides the total number of elements in the tuple as well as the range() built-in function to give us the actual sequence to iterate over."
   ]
  },
  {
   "cell_type": "code",
   "execution_count": 97,
   "metadata": {
    "scrolled": true
   },
   "outputs": [
    {
     "name": "stdout",
     "output_type": "stream",
     "text": [
      "nama 0\n",
      "nama 1\n",
      "nama 2\n",
      "nama 3\n",
      "nama 4\n",
      "nama 5\n",
      "nama 6\n",
      "nama 7\n",
      "nama 8\n",
      "nama 9\n"
     ]
    }
   ],
   "source": [
    "count = 0\n",
    "for i in range(10) :\n",
    "    print('nama', count)\n",
    "    count += 1"
   ]
  },
  {
   "cell_type": "code",
   "execution_count": 70,
   "metadata": {
    "scrolled": false
   },
   "outputs": [
    {
     "name": "stdout",
     "output_type": "stream",
     "text": [
      "nama 7\n",
      "nama 8\n",
      "nama 9\n",
      "nama 10\n",
      "nama 11\n",
      "nama 12\n",
      "nama 13\n",
      "nama 14\n",
      "nama 15\n",
      "nama 16\n",
      "nama 17\n",
      "nama 18\n",
      "nama 19\n",
      "nama 20\n"
     ]
    }
   ],
   "source": [
    "count = 0\n",
    "for i in range(7, 21) : #start, stop, step\n",
    "    print('nama', i)"
   ]
  },
  {
   "cell_type": "markdown",
   "metadata": {},
   "source": [
    "### 4.3 Nested Loops\n",
    "\n",
    "Python programming language allows to use one loop inside another loop, this is called nested loops. Following section shows few examples to illustrate the concept.\n",
    "\n",
    "<img src='image_DSA/syntax_nested_loop.jpg' alt='drawing' align='left' width=600>"
   ]
  },
  {
   "cell_type": "code",
   "execution_count": 71,
   "metadata": {},
   "outputs": [
    {
     "name": "stdout",
     "output_type": "stream",
     "text": [
      "1 a\n",
      "1 b\n",
      "1 c\n",
      "2 a\n",
      "2 b\n",
      "2 c\n",
      "3 a\n",
      "3 b\n",
      "3 c\n",
      "4 a\n",
      "4 b\n",
      "4 c\n"
     ]
    }
   ],
   "source": [
    "for i in range(1, 5):\n",
    "    for j in ['a', 'b', 'c']:\n",
    "        print(i, j)"
   ]
  },
  {
   "cell_type": "code",
   "execution_count": 194,
   "metadata": {},
   "outputs": [
    {
     "name": "stdout",
     "output_type": "stream",
     "text": [
      "1 x 1 = 1\n",
      "1 x 2 = 2\n",
      "1 x 3 = 3\n",
      "1 x 4 = 4\n",
      "1 x 5 = 5\n",
      "2 x 1 = 2\n",
      "2 x 2 = 4\n",
      "2 x 3 = 6\n",
      "2 x 4 = 8\n",
      "2 x 5 = 10\n",
      "3 x 1 = 3\n",
      "3 x 2 = 6\n",
      "3 x 3 = 9\n",
      "3 x 4 = 12\n",
      "3 x 5 = 15\n",
      "4 x 1 = 4\n",
      "4 x 2 = 8\n",
      "4 x 3 = 12\n",
      "4 x 4 = 16\n",
      "4 x 5 = 20\n",
      "5 x 1 = 5\n",
      "5 x 2 = 10\n",
      "5 x 3 = 15\n",
      "5 x 4 = 20\n",
      "5 x 5 = 25\n"
     ]
    }
   ],
   "source": [
    "for i in range(1, 6):\n",
    "    for j in range(1, 6):\n",
    "        print('{} x {} = {}'.format(i, j, i*j))"
   ]
  },
  {
   "cell_type": "code",
   "execution_count": 8,
   "metadata": {},
   "outputs": [
    {
     "name": "stdout",
     "output_type": "stream",
     "text": [
      "1 + 1 + 1 = 3\n",
      "1 + 1 + 2 = 4\n",
      "--------------------\n",
      "1 + 2 + 1 = 4\n",
      "1 + 2 + 2 = 5\n",
      "--------------------\n",
      "********************\n",
      "2 + 1 + 1 = 4\n",
      "2 + 1 + 2 = 5\n",
      "--------------------\n",
      "2 + 2 + 1 = 5\n",
      "2 + 2 + 2 = 6\n",
      "--------------------\n",
      "********************\n",
      "End of loop\n"
     ]
    }
   ],
   "source": [
    "for i in range(1,3):\n",
    "    for j in range(1,3):\n",
    "        for k in range(1,3):\n",
    "            print('{} + {} + {} = {}'.format(i,j,k, i+j+k))\n",
    "        print('-'*20)\n",
    "    print('**'*10)\n",
    "print('End of loop')   "
   ]
  },
  {
   "cell_type": "markdown",
   "metadata": {},
   "source": [
    "### 4.4 Break Statement\n",
    "- It terminates the current loop and resumes execution at the next statement, just like the traditional break statement in C.\n",
    "\n",
    "- The most common use for break is when some external condition is triggered requiring a hasty exit from a loop. The break statement can be used in both while and for loops.\n",
    "\n",
    "- If you are using nested loops, the break statement stops the execution of the innermost loop and start executing the next line of code after the block.\n",
    "\n",
    "<img src='image_DSA/break_syntax.jpg' alt='drawing' align='left' width='600'>"
   ]
  },
  {
   "cell_type": "markdown",
   "metadata": {},
   "source": [
    "**Flow Diagram**\n",
    "\n",
    "<img src='image_DSA/cpp_break_statement.jpg' alt='drawing' align='left' width='300'>"
   ]
  },
  {
   "cell_type": "code",
   "execution_count": 72,
   "metadata": {},
   "outputs": [
    {
     "name": "stdout",
     "output_type": "stream",
     "text": [
      "fase pacaran : suka\n",
      "fase pacaran : pdkt\n",
      "fase pacaran : nembak\n",
      "fase pacaran : jadian\n",
      "Dan akhirnya aku ditinggal saat lagi : sayang-sayangnya\n"
     ]
    }
   ],
   "source": [
    "fase_pacaran = ['suka', 'pdkt', 'nembak', 'jadian', 'sayang-sayangnya', 'bosen', 'selingkuh', 'marahan', 'putus']\n",
    "\n",
    "for fase in fase_pacaran :\n",
    "    if fase == 'sayang-sayangnya':\n",
    "        break\n",
    "    print('fase pacaran :', fase)\n",
    "print('Dan akhirnya aku ditinggal saat lagi :', fase)"
   ]
  },
  {
   "cell_type": "code",
   "execution_count": 232,
   "metadata": {},
   "outputs": [
    {
     "name": "stdout",
     "output_type": "stream",
     "text": [
      "Revenue bulan ke 1 : 1000\n",
      "Revenue bulan ke 2 : 900\n",
      "Revenue bulan ke 3 : 800\n",
      "Revenue bulan ke 4 : 700\n",
      "Revenue bulan ke 5 : 600\n",
      "Bulan ke  6 : Bankrut!\n"
     ]
    }
   ],
   "source": [
    "revenue = 1000\n",
    "cogs = 500\n",
    "bulan = 1\n",
    "\n",
    "while revenue > 0:              \n",
    "    print('Revenue bulan ke {} : {}'.format(bulan, revenue))\n",
    "    revenue -= 100\n",
    "    bulan += 1\n",
    "    \n",
    "    if revenue == cogs :\n",
    "        break\n",
    "\n",
    "print(\"Bulan ke \", bulan, \": Bankrut!\")"
   ]
  },
  {
   "cell_type": "markdown",
   "metadata": {},
   "source": [
    "### 4.4 Continue Statement\n",
    "- It returns the control to the beginning of the while loop.. The continue statement rejects all the remaining statements in the current iteration of the loop and moves the control back to the top of the loop.\n",
    "\n",
    "- The continue statement can be used in both while and for loops.\n",
    "\n",
    "<img src='image_DSA/continue_syntax.jpg' alt='drawing' align='left' width='600'>"
   ]
  },
  {
   "cell_type": "markdown",
   "metadata": {},
   "source": [
    "**Flow Diagram**\n",
    "\n",
    "<img src='image_DSA/cpp_continue_statement.jpg' alt='drawing' align='left' width='300'>"
   ]
  },
  {
   "cell_type": "code",
   "execution_count": 237,
   "metadata": {
    "scrolled": true
   },
   "outputs": [
    {
     "name": "stdout",
     "output_type": "stream",
     "text": [
      "fase pacaran : suka\n",
      "fase pacaran : taaruf\n",
      "fase pacaran : nikah\n",
      "fase pacaran : punya anak\n",
      "Dan akhirnya kini kita sudah : punya anak\n"
     ]
    }
   ],
   "source": [
    "fase_pacaran = ['suka', 'pacaran', 'taaruf', 'nikah', 'punya anak']\n",
    "\n",
    "for fase in fase_pacaran :\n",
    "    if fase == 'pacaran':\n",
    "        continue\n",
    "    print('fase pacaran :', fase)\n",
    "print('Dan akhirnya kini kita sudah :', fase)"
   ]
  },
  {
   "cell_type": "markdown",
   "metadata": {},
   "source": [
    "### 4.4 Pass Statement\n",
    "- It is used when a statement is required syntactically but you do not want any command or code to execute.\n",
    "\n",
    "- The pass statement is a null operation; nothing happens when it executes. The pass is also useful in places where your code will eventually go, but has not been written yet (e.g., in stubs for example)\n",
    "\n",
    "<img src='image_DSA/pass_syntac.jpg' alt='drawing' align='left' width='600'>"
   ]
  },
  {
   "cell_type": "code",
   "execution_count": 240,
   "metadata": {
    "scrolled": true
   },
   "outputs": [
    {
     "name": "stdout",
     "output_type": "stream",
     "text": [
      "sekarang huruf:  S\n",
      "sekarang huruf:  h\n",
      "sekarang huruf:  i\n",
      "sekarang huruf:  f\n",
      "sekarang huruf:  t\n",
      "--------------------\n",
      "sekarang huruf:  A\n",
      "sekarang huruf:  c\n",
      "sekarang huruf:  a\n",
      "sekarang huruf:  d\n",
      "sekarang huruf:  e\n",
      "sekarang huruf:  m\n",
      "sekarang huruf:  y\n",
      "Bye~\n"
     ]
    }
   ],
   "source": [
    "for i in 'ShiftAcademy':\n",
    "    if i =='A':\n",
    "        pass\n",
    "        print('-'*20)\n",
    "    print('sekarang huruf: ', i)\n",
    "\n",
    "print('Bye~')"
   ]
  },
  {
   "cell_type": "code",
   "execution_count": 24,
   "metadata": {},
   "outputs": [
    {
     "data": {
      "text/plain": [
       "['BMW-Booked', 'Mercedes-Booked', 'Lamborgini-Booked', 'Land Rover', 'Jeep']"
      ]
     },
     "execution_count": 24,
     "metadata": {},
     "output_type": "execute_result"
    }
   ],
   "source": [
    "cars = ['BMW', 'Mercedes', 'Lamborgini', 'Land Rover', 'Jeep']\n",
    "suka = cars[:3]\n",
    "for i in range(len(cars)):\n",
    "    if cars[i] in suka:\n",
    "        cars[i] += '-Booked'\n",
    "    else:\n",
    "        pass\n",
    "cars"
   ]
  },
  {
   "cell_type": "markdown",
   "metadata": {},
   "source": [
    "## 5. Challenge Loop : Loop Drawing"
   ]
  },
  {
   "cell_type": "code",
   "execution_count": 79,
   "metadata": {},
   "outputs": [
    {
     "name": "stdout",
     "output_type": "stream",
     "text": [
      " *  *  *  *  * \n",
      " *  *  *  *  * \n",
      " *  *  *  *  * \n",
      " *  *  *  *  * \n",
      " *  *  *  *  * \n",
      "\n"
     ]
    }
   ],
   "source": [
    "# Contoh loop drawing\n",
    "z = ''\n",
    "\n",
    "for i in range(5):\n",
    "    for j in range(5):\n",
    "        z += ' * '\n",
    "    z += '\\n'\n",
    "print(z)"
   ]
  },
  {
   "cell_type": "markdown",
   "metadata": {},
   "source": [
    "Buatlah dengan output sebagai berikut :\n",
    "\n",
    "<img src='image_DSA/challenge_2.jpg' alt='drawing' align='left' width='175'>"
   ]
  },
  {
   "cell_type": "code",
   "execution_count": 252,
   "metadata": {},
   "outputs": [
    {
     "name": "stdout",
     "output_type": "stream",
     "text": [
      " *  *  *  *  * \n",
      " *  *  *  * \n",
      " *  *  * \n",
      " *  * \n",
      " * \n",
      "\n"
     ]
    }
   ],
   "source": [
    "z = ''\n",
    "\n",
    "for i in range(5):\n",
    "    for j in range(0, 5-i):\n",
    "        z += ' * '\n",
    "    z += '\\n'\n",
    "print(z)\n",
    "        "
   ]
  },
  {
   "cell_type": "code",
   "execution_count": 253,
   "metadata": {},
   "outputs": [
    {
     "name": "stdout",
     "output_type": "stream",
     "text": [
      " * \n",
      " *  * \n",
      " *  *  * \n",
      " *  *  *  * \n",
      " *  *  *  *  * \n",
      "\n"
     ]
    }
   ],
   "source": [
    "z = ''\n",
    "\n",
    "for i in range(5):\n",
    "    for j in range(0, i+1):\n",
    "        z += ' * '\n",
    "    z += '\\n'\n",
    "print(z)\n",
    "        "
   ]
  },
  {
   "cell_type": "code",
   "execution_count": 255,
   "metadata": {},
   "outputs": [
    {
     "name": "stdout",
     "output_type": "stream",
     "text": [
      " *  *  *  *  * \n",
      " *  *  *  * \n",
      " *  *  * \n",
      " *  * \n",
      " * \n",
      " *  * \n",
      " *  *  * \n",
      " *  *  *  * \n",
      " *  *  *  *  * \n",
      "\n"
     ]
    }
   ],
   "source": [
    "z = ''\n",
    "\n",
    "for i in range(4):\n",
    "    for j in range(0, 5-i):\n",
    "        z += ' * '\n",
    "    z += '\\n'\n",
    "    \n",
    "for i in range(5):\n",
    "    for j in range(0, i+1):\n",
    "        z += ' * '\n",
    "    z += '\\n'\n",
    "\n",
    "print(z)"
   ]
  },
  {
   "cell_type": "markdown",
   "metadata": {},
   "source": [
    "### HOMEWORK :\n",
    "1. Buat program python yang dapat memunculkan seluruh bilangan prima dari 0-100\n",
    "2. Buat program python yang dapat menerima input angka (integer), kemudian program tersebut dapat mengklasifikasikan secara otomatis apakah inputan angka tersebut merupakan bilangan prima atau tidak. Jika dia bukan bilangan prima, maka sebutkan angka yang menjadi faktor dari nilai inputan tersebut!"
   ]
  },
  {
   "cell_type": "code",
   "execution_count": 1,
   "metadata": {
    "scrolled": false
   },
   "outputs": [
    {
     "name": "stdout",
     "output_type": "stream",
     "text": [
      "2 adalah bilangan prima\n",
      "3 adalah bilangan prima\n",
      "5 adalah bilangan prima\n",
      "7 adalah bilangan prima\n",
      "11 adalah bilangan prima\n",
      "13 adalah bilangan prima\n",
      "17 adalah bilangan prima\n",
      "19 adalah bilangan prima\n",
      "23 adalah bilangan prima\n",
      "29 adalah bilangan prima\n",
      "31 adalah bilangan prima\n",
      "37 adalah bilangan prima\n",
      "41 adalah bilangan prima\n",
      "43 adalah bilangan prima\n",
      "47 adalah bilangan prima\n",
      "53 adalah bilangan prima\n",
      "59 adalah bilangan prima\n",
      "61 adalah bilangan prima\n",
      "67 adalah bilangan prima\n",
      "71 adalah bilangan prima\n",
      "73 adalah bilangan prima\n",
      "79 adalah bilangan prima\n",
      "83 adalah bilangan prima\n",
      "89 adalah bilangan prima\n",
      "97 adalah bilangan prima\n"
     ]
    }
   ],
   "source": [
    "for angka in range(2, 100):\n",
    "    if angka > 1:\n",
    "        #memastikan angka tidak memiliki faktor pembagi, kalo punya ya pasti bukan prima\n",
    "        for i in range(2, angka):\n",
    "            if (angka%i) == 0:\n",
    "                break  \n",
    "        else :\n",
    "            print(angka, 'adalah bilangan prima')\n",
    "    else :\n",
    "        print(angka, 'bukan merupakan bilangan prima')"
   ]
  },
  {
   "cell_type": "code",
   "execution_count": 3,
   "metadata": {},
   "outputs": [
    {
     "name": "stdout",
     "output_type": "stream",
     "text": [
      "Cek bilangan prima : 16\n",
      "16 bukan merupakan bilangan prima, mengapa? \n",
      "karena:\n",
      "2 x 8.0 = 16\n"
     ]
    }
   ],
   "source": [
    "#angka untuk dicek status bilangan prima nya\n",
    "angka = int(input('Cek bilangan prima : '))\n",
    "\n",
    "#memastikan angkanya diatas 1, kalo engga diatas 1 ya fix bukan prima\n",
    "if angka > 1:\n",
    "    #memastikan angka tidak memiliki faktor pembagi, kalo punya ya pasti bukan prima\n",
    "    for i in range(2, angka):\n",
    "        if (angka%i) == 0:\n",
    "            print(angka, 'bukan merupakan bilangan prima, mengapa? \\nkarena:')\n",
    "            print('{} x {} = {}'.format(i, angka/i, angka))\n",
    "            break\n",
    "    else :\n",
    "        print(angka, 'adalah bilangan prima')\n",
    "else :\n",
    "    print(angka, 'bukan merupakan bilangan prima')"
   ]
  },
  {
   "cell_type": "code",
   "execution_count": null,
   "metadata": {},
   "outputs": [],
   "source": []
  }
 ],
 "metadata": {
  "kernelspec": {
   "display_name": "Python 3",
   "language": "python",
   "name": "python3"
  },
  "language_info": {
   "codemirror_mode": {
    "name": "ipython",
    "version": 3
   },
   "file_extension": ".py",
   "mimetype": "text/x-python",
   "name": "python",
   "nbconvert_exporter": "python",
   "pygments_lexer": "ipython3",
   "version": "3.8.8"
  }
 },
 "nbformat": 4,
 "nbformat_minor": 4
}
